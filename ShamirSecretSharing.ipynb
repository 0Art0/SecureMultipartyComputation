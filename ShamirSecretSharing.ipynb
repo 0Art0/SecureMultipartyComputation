{
 "cells": [
  {
   "cell_type": "code",
   "execution_count": null,
   "metadata": {
    "scrolled": true,
    "slideshow": {
     "slide_type": "skip"
    }
   },
   "outputs": [],
   "source": [
    "include(\"polynomials.jl\")\n",
    "include(\"quotientrings.jl\")\n",
    "\n",
    "Base.show(io::IO, p::Polynomial{Quot{T, Q}}) where {T <: Number, Q <: Val} = \n",
    "print(io, join(reverse!([\"$(p[i].a) 𝕩^$i\" for i ∈ 0:p.degree]), \" + \") * \"    mod $(getval(Q))\")"
   ]
  },
  {
   "cell_type": "markdown",
   "metadata": {
    "slideshow": {
     "slide_type": "slide"
    }
   },
   "source": [
    "# An application of Shamir Secret Sharing to computing sums"
   ]
  },
  {
   "cell_type": "markdown",
   "metadata": {
    "slideshow": {
     "slide_type": "subslide"
    }
   },
   "source": [
    "Suppose $n$ people with secret numbers $s_1, s_2, \\ldots, s_n$ want to compute the sum of their secret numbers without revealing the individual numbers.\n",
    "\n",
    "\n",
    "This can be accomplished through a modification of the Shamir Secret Sharing (SSS) protocol. Another variant of this approach yields a method for computing the product of the secret numbers, and consequently, any polynomial function of the variables $s_1, s_2, \\ldots, s_n$."
   ]
  },
  {
   "cell_type": "markdown",
   "metadata": {
    "slideshow": {
     "slide_type": "fragment"
    }
   },
   "source": [
    "The assumptions are:\n",
    "- There is a secret communication channel between each pair of players\n",
    "- A majority of the players are honest\n",
    "- No player deviates from the protocol"
   ]
  },
  {
   "cell_type": "code",
   "execution_count": null,
   "metadata": {
    "slideshow": {
     "slide_type": "skip"
    }
   },
   "outputs": [],
   "source": [
    "mutable struct Player{T} <: Any where {T <: Number}\n",
    "    name::Symbol\n",
    "    number::Int\n",
    "    \n",
    "    secret::T\n",
    "    secretpoly::Polynomial{T}\n",
    "    shares::Vector{T}\n",
    "    \n",
    "    computedvalue::T\n",
    "end"
   ]
  },
  {
   "cell_type": "code",
   "execution_count": null,
   "metadata": {
    "slideshow": {
     "slide_type": "skip"
    }
   },
   "outputs": [],
   "source": [
    "Base.show(io::IO, p::Player) = print(io, \"Player $(p.number): $(p.name)\")"
   ]
  },
  {
   "cell_type": "code",
   "execution_count": null,
   "metadata": {
    "slideshow": {
     "slide_type": "skip"
    }
   },
   "outputs": [],
   "source": [
    "function randompolynomial(D; degree) \n",
    "    Polynomial([D; rand(typeof(D), degree)])\n",
    "end"
   ]
  },
  {
   "cell_type": "code",
   "execution_count": null,
   "metadata": {
    "slideshow": {
     "slide_type": "skip"
    }
   },
   "outputs": [],
   "source": [
    "Player(name::Symbol, number::Int; num_players = N, threshold = t, 𝔽ield = 𝔽) = begin\n",
    "    Player(name, number, rand(𝔽ield), Polynomial([zero(𝔽ield)]), zeros(𝔽ield, num_players), zero(𝔽ield))\n",
    "end"
   ]
  },
  {
   "cell_type": "markdown",
   "metadata": {
    "slideshow": {
     "slide_type": "subslide"
    }
   },
   "source": [
    "**The set-up:**\n",
    "A group of $n$ people, with secret numbers $s_1, s_2, \\ldots, s_n$ respectively, want to securely compute $(t, n)$ secret shares for the sum of their numbers.\n",
    "\n",
    "**Implementation:**\n",
    "Consider a set-up with $5$ people performing a $(3, 5)$ secret sharing with secret numbers drawn from the prime field $\\mathbb{Z}_{17}$."
   ]
  },
  {
   "cell_type": "code",
   "execution_count": null,
   "metadata": {
    "slideshow": {
     "slide_type": "-"
    }
   },
   "outputs": [],
   "source": [
    "𝔽 = Quot{Int, Val{17}};  #the field\n",
    "N, t = 5, 2;  #the number of players and the threshold"
   ]
  },
  {
   "cell_type": "code",
   "execution_count": null,
   "metadata": {
    "scrolled": false
   },
   "outputs": [],
   "source": [
    "Anand = Player(:Anand, 1)\n",
    "Anirudh = Player(:Anirudh, 2)\n",
    "Hrishikesh = Player(:Hrishikesh, 3)\n",
    "Kapil = Player(:Kapil, 4)\n",
    "Srijay = Player(:Srijay, 5)\n",
    "\n",
    "players = (Anand, Anirudh, Hrishikesh, Kapil, Srijay)"
   ]
  },
  {
   "cell_type": "code",
   "execution_count": null,
   "metadata": {},
   "outputs": [],
   "source": []
  },
  {
   "cell_type": "markdown",
   "metadata": {
    "slideshow": {
     "slide_type": "subslide"
    }
   },
   "source": [
    "#### Step 1: Input sharing\n",
    "\n",
    "Every player executes the $(t, n)$ Shamir Secret Sharing protocol with their secrets.\n",
    "\n",
    "This differs from the regular protocol in two important ways:\n",
    "- Each player receives a share of their own secret\n",
    "- Instead of evaluating the secret polynomials at random inputs, the $i$th player is always given the share corresponding to the input $i$"
   ]
  },
  {
   "cell_type": "code",
   "execution_count": null,
   "metadata": {},
   "outputs": [],
   "source": [
    "for p ∈ players;        p.secretpoly = randompolynomial(p.secret; degree = t);     end"
   ]
  },
  {
   "cell_type": "code",
   "execution_count": null,
   "metadata": {},
   "outputs": [],
   "source": [
    "for p ∈ players, q ∈ players;     q.shares[p.number] = p.secretpoly(q.number);     end"
   ]
  },
  {
   "cell_type": "code",
   "execution_count": null,
   "metadata": {
    "scrolled": true
   },
   "outputs": [],
   "source": [
    " "
   ]
  },
  {
   "cell_type": "markdown",
   "metadata": {
    "slideshow": {
     "slide_type": "subslide"
    }
   },
   "source": [
    "#### Step 2: Sum evaluation\n",
    "\n",
    "Each player then computes the sum of the shares they have received from the other players. The shares act like proxies for the values of the inputs.\n",
    "\n",
    "For the $i$th player, the sum of the shares they have received is\n",
    "\n",
    "$$\n",
    "\\sum_{p \\in players} p.secretpoly(i)\n",
    "$$\n",
    "\n",
    "Consider a new polynomial\n",
    "\n",
    "$$\n",
    "Q(x) = \\sum_{p \\in players} p.secretpoly(x)\n",
    "$$\n",
    "\n",
    "This is a degree $t$ polynomial with constant coefficient equal to \n",
    "$$Q(0) = \\sum_{p \\in players} p.secretpoly(0) = \\sum_{p \\in players} p.secret$$\n",
    "Although the players have no way of computing $Q(x)$ without revealing their secret polynomials, they can individually compute the values of the shares $Q(i)$ by summing the shares received from the other players (as mentioned above)."
   ]
  },
  {
   "cell_type": "code",
   "execution_count": 34,
   "metadata": {},
   "outputs": [],
   "source": [
    "for p ∈ players;     p.computedvalue = sum(p.shares);  end"
   ]
  },
  {
   "cell_type": "markdown",
   "metadata": {
    "slideshow": {
     "slide_type": "subslide"
    }
   },
   "source": [
    "#### Step 3: Output construction\n",
    "\n",
    "Now that the players have all computed their individual shares of the $t$-degree polynomial $Q(x)$, they can find the secret $Q(0)$ - which is the sum of their secret numbers - by combining any $t + 1$ shares and finding the interpolating polynomial."
   ]
  },
  {
   "cell_type": "code",
   "execution_count": 35,
   "metadata": {
    "slideshow": {
     "slide_type": "skip"
    }
   },
   "outputs": [
    {
     "data": {
      "text/plain": [
       "interpolate (generic function with 2 methods)"
      ]
     },
     "execution_count": 35,
     "metadata": {},
     "output_type": "execute_result"
    }
   ],
   "source": [
    "function interpolate(xs, ys::Vector{T}) where {T}\n",
    "    𝕩 = Polynomial([zero(T), one(T)])\n",
    "    \n",
    "    #L(j) = prod([(𝕩 - Polynomial([xₖ])) for (k, xₖ) ∈ enumerate(xs) if k != j]) * \n",
    "    #Polynomial([inv(prod([(xs[j] - xₖ) for (k, xₖ) ∈ enumerate(xs) if k != j]))])\n",
    "    \n",
    "    L(j) = prod( [\n",
    "            (𝕩 - Polynomial([xₖ])) * Polynomial([inv(xs[j] - xₖ)])\n",
    "            for (k, xₖ) ∈ enumerate(xs) if k != j\n",
    "            ] )\n",
    "    \n",
    "    sum([Polynomial([yⱼ]) * L(j) for (j, yⱼ) ∈ enumerate(ys)])\n",
    "end       \n",
    "\n",
    "interpolate(ps::Vector{Player{T}}) where {T <: Any} = interpolate(getfield.(ps, :number) .+ zero(T), getfield.(ps, :computedvalue))   "
   ]
  },
  {
   "cell_type": "code",
   "execution_count": 36,
   "metadata": {},
   "outputs": [
    {
     "data": {
      "text/plain": [
       "12 𝕩^2 + 13 𝕩^1 + 0 𝕩^0    mod 17"
      ]
     },
     "execution_count": 36,
     "metadata": {},
     "output_type": "execute_result"
    }
   ],
   "source": [
    "interpolate([Anirudh, Kapil, Srijay])"
   ]
  },
  {
   "cell_type": "code",
   "execution_count": 37,
   "metadata": {
    "scrolled": true
   },
   "outputs": [
    {
     "data": {
      "text/plain": [
       "7  mod  17"
      ]
     },
     "execution_count": 37,
     "metadata": {},
     "output_type": "execute_result"
    }
   ],
   "source": [
    "sum((getfield.(players, :secret)) .* [0, 5, 3, 1, 4])"
   ]
  }
 ],
 "metadata": {
  "celltoolbar": "Slideshow",
  "kernelspec": {
   "display_name": "Julia 1.5.3",
   "language": "julia",
   "name": "julia-1.5"
  },
  "language_info": {
   "file_extension": ".jl",
   "mimetype": "application/julia",
   "name": "julia",
   "version": "1.5.3"
  }
 },
 "nbformat": 4,
 "nbformat_minor": 4
}
