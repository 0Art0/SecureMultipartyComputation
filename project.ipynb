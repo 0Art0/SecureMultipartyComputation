{
 "cells": [
  {
   "cell_type": "code",
   "execution_count": 14,
   "id": "acting-respondent",
   "metadata": {
    "scrolled": false,
    "slideshow": {
     "slide_type": "skip"
    }
   },
   "outputs": [],
   "source": [
    "include(\"polynomials.jl\")\n",
    "include(\"quotientrings.jl\")\n",
    "\n",
    "Base.show(io::IO, p::Polynomial{Quot{T, Q}}) where {T <: Number, Q <: Val} = \n",
    "print(io, join(reverse!([\"$(p[i].a) 𝕩^$i\" for i ∈ 0:p.degree]), \" + \") * \"    mod $(getval(Q))\")"
   ]
  },
  {
   "cell_type": "markdown",
   "id": "underlying-blake",
   "metadata": {
    "slideshow": {
     "slide_type": "slide"
    }
   },
   "source": [
    "# SECURE MULTIPARTY COMPUTATION: AN OVERVIEW\n",
    "\n",
    "*Group Members:* Anand Rao Tadipatri, Anirudh Rachuri, Hrishikesh V, Kapil Chandak, Srijay Sutar"
   ]
  },
  {
   "cell_type": "markdown",
   "id": "colored-bunch",
   "metadata": {
    "slideshow": {
     "slide_type": "slide"
    }
   },
   "source": [
    "# What is Secure MPC?"
   ]
  },
  {
   "cell_type": "markdown",
   "id": "rural-arthritis",
   "metadata": {
    "slideshow": {
     "slide_type": "slide"
    }
   },
   "source": [
    "# Some motivating examples\n",
    "\n",
    "So to just get some idea of where MPC is really used we start with some examples."
   ]
  },
  {
   "cell_type": "markdown",
   "id": "inner-deployment",
   "metadata": {
    "slideshow": {
     "slide_type": "subslide"
    }
   },
   "source": [
    "## Bank locker\n",
    "\n",
    "> \"In response to a recent RTI, the RBI and 19 PSU banks explained that “the relationship they have with customers with regard to lockers is that of lessee (tenant) and lessor (landlord)”, and no compensation will be given for theft or burglary of valuables in safe deposit boxes of public sector banks as the locker hiring agreement absolves them of all liability\"  -TOI\n",
    "\n",
    "So due to this response and also otherwise we want to understand about the security of the things which we keep in our bank lockers.For the entire details of the issues look at the link which is provided in reference in order to understand various issues associated with it.\n",
    "\n",
    "MPC and related ideas helps us to understand about the security aspects about the safety of the things which we keep in our bank lockers."
   ]
  },
  {
   "cell_type": "markdown",
   "id": "phantom-commons",
   "metadata": {
    "slideshow": {
     "slide_type": "subslide"
    }
   },
   "source": [
    "## Private contact discovery\n",
    "\n",
    "-------Google adds example which Aniruddha talked about . Will add the exact points after todays meeting------"
   ]
  },
  {
   "cell_type": "markdown",
   "id": "chicken-restaurant",
   "metadata": {
    "slideshow": {
     "slide_type": "slide"
    }
   },
   "source": [
    "# Security Notions in MPC\n",
    "(Ideal-Real Simulation paradigm)"
   ]
  },
  {
   "cell_type": "markdown",
   "id": "otherwise-price",
   "metadata": {
    "slideshow": {
     "slide_type": "slide"
    }
   },
   "source": [
    "# What is Secret Sharing?\n",
    "Secret sharing (also called secret splitting) refers to methods for distributing a secret among a group of participants, each of whom is allocated a share of the secret. The secret can be reconstructed only when a sufficient number, of possibly different types, of shares are combined together; individual shares are of no use on their own.\n",
    "\n",
    "Secret sharing is quite an old cryptographic method, with existing real-world applications, for instance in Bitcoin signatures.\n",
    "Other than from a purely conceptual point of view, secret sharing is also intriguing to study from a performance point of view, as it relies on a bare minimum of cryptographic assumptions.\n",
    "<br /> <br />\n",
    "\n",
    "<center>\n",
    "<figure>\n",
    "    <img src=\"secret.jpg\"  height=\"500\" width=\"500\"/>\n",
    "    \n",
    "</figure>\n",
    "</center>"
   ]
  },
  {
   "cell_type": "markdown",
   "id": "dangerous-twins",
   "metadata": {
    "slideshow": {
     "slide_type": "subslide"
    }
   },
   "source": [
    "## Shamir Secret Sharing\n",
    "Shamir's Secret Sharing (SSS) is used to secure a secret in a distributed way, most often to secure other encryption keys. The secret is split into multiple parts, called **shares**. These shares are used to reconstruct the original secret.\n",
    "\n",
    "To unlock the secret via Shamir's secret sharing, you need a minimum number of shares. This is called the **threshold**, and is used to denote the minimum number of shares needed to unlock the secret.\n",
    "<br /><br />\n",
    "\n",
    "<center>\n",
    "<figure>\n",
    "    <img src=\"sss.png\"  height=\"350\" width=\"350\"/>\n",
    "   \n",
    "</figure>\n",
    "</center>"
   ]
  },
  {
   "cell_type": "markdown",
   "id": "instrumental-installation",
   "metadata": {
    "slideshow": {
     "slide_type": "subslide"
    }
   },
   "source": [
    "### General Protocol\n",
    "Formulated by Adi Shamir, this was one of the first secret sharing schemes. We explain a geometric version of secret sharing, which is based on polynomial interpolation over finite fields.\n",
    "\n"
   ]
  },
  {
   "cell_type": "markdown",
   "id": "leading-throat",
   "metadata": {
    "slideshow": {
     "slide_type": "fragment"
    }
   },
   "source": [
    "Assume that a secret ($s$) is to be shared among $n$ people. The protocol is as follows:\n",
    "* A threshold $t(≤ n)$ is chosen.\n",
    "* A polynomial passing through $(0, s)$ of degree $t-1$ is chosen.\n",
    "* $n$ distinct points lying on the polynomial (called shares) are selected.\n",
    "* A point on the polynomial $(x_i, y_i), 1≤i≤t $ is shared with each of the $n$ people.\n",
    "* If $t$ people combine, the polynomial and hence the secret can be determined.\n",
    "It is not possible to determine the polynomial unless atleast $t$ people come together. This is due to the fact that there are infinite polynomials passing through $(t-k)$ points for any $k \\in [1, t-1]$.\n",
    "\n"
   ]
  },
  {
   "cell_type": "markdown",
   "id": "imposed-venue",
   "metadata": {
    "slideshow": {
     "slide_type": "subslide"
    }
   },
   "source": [
    "### Usecase: Computing Linear Combination of inputs"
   ]
  },
  {
   "cell_type": "code",
   "execution_count": null,
   "id": "actual-print",
   "metadata": {},
   "outputs": [],
   "source": []
  },
  {
   "cell_type": "markdown",
   "id": "governing-guidance",
   "metadata": {
    "slideshow": {
     "slide_type": "slide"
    }
   },
   "source": [
    "# An application of Shamir Secret Sharing to computing sums"
   ]
  },
  {
   "cell_type": "markdown",
   "id": "advance-headquarters",
   "metadata": {
    "slideshow": {
     "slide_type": "subslide"
    }
   },
   "source": [
    "Suppose $n$ people with secret numbers $s_1, s_2, \\ldots, s_n$ want to compute the sum of their secret numbers without revealing the individual numbers.\n",
    "\n",
    "\n",
    "This can be accomplished through a modification of the Shamir Secret Sharing (SSS) protocol. Another variant of this approach yields a method for computing the product of the secret numbers, and consequently, any polynomial function of the variables $s_1, s_2, \\ldots, s_n.$"
   ]
  },
  {
   "cell_type": "markdown",
   "id": "turned-queen",
   "metadata": {
    "slideshow": {
     "slide_type": "fragment"
    }
   },
   "source": [
    "The assumptions are:\n",
    "- There is a secret communication channel between each pair of players\n",
    "- A majority of the players are honest\n",
    "- No player deviates from the protocol"
   ]
  },
  {
   "cell_type": "code",
   "execution_count": null,
   "id": "controlled-crisis",
   "metadata": {
    "slideshow": {
     "slide_type": "skip"
    }
   },
   "outputs": [],
   "source": [
    "mutable struct Player{T} <: Any where {T <: Number}\n",
    "    name::Symbol\n",
    "    number::Int\n",
    "    \n",
    "    secret::T\n",
    "    secretpoly::Polynomial{T}\n",
    "    shares::Vector{T}\n",
    "    \n",
    "    computedvalue::T\n",
    "end"
   ]
  },
  {
   "cell_type": "code",
   "execution_count": null,
   "id": "shaped-material",
   "metadata": {
    "slideshow": {
     "slide_type": "skip"
    }
   },
   "outputs": [],
   "source": [
    "Base.show(io::IO, p::Player) = print(io, \"Player $(p.number): $(p.name)\")"
   ]
  },
  {
   "cell_type": "code",
   "execution_count": null,
   "id": "complimentary-shooting",
   "metadata": {
    "slideshow": {
     "slide_type": "skip"
    }
   },
   "outputs": [],
   "source": [
    "function randompolynomial(D; degree) \n",
    "    Polynomial([D; rand(typeof(D), degree)])\n",
    "end"
   ]
  },
  {
   "cell_type": "code",
   "execution_count": null,
   "id": "compressed-matter",
   "metadata": {
    "slideshow": {
     "slide_type": "skip"
    }
   },
   "outputs": [],
   "source": [
    "Player(name::Symbol, number::Int; num_players = N, threshold = t, 𝔽ield = 𝔽) = begin\n",
    "    Player(name, number, rand(𝔽ield), Polynomial([zero(𝔽ield)]), zeros(𝔽ield, num_players), zero(𝔽ield))\n",
    "end"
   ]
  },
  {
   "cell_type": "markdown",
   "id": "forbidden-science",
   "metadata": {
    "slideshow": {
     "slide_type": "subslide"
    }
   },
   "source": [
    "**The set-up:**\n",
    "A group of $n$ people, with secret numbers $s_1, s_2, \\ldots, s_n$ respectively, want to securely compute $(t, n)$ secret shares for the sum of their numbers.\n",
    "\n",
    "**Implementation:**\n",
    "Consider a set-up with $5$ people performing a $(2, 5)$ secret sharing with secret numbers drawn from the prime field $\\mathbb{Z}_{17}$."
   ]
  },
  {
   "cell_type": "code",
   "execution_count": null,
   "id": "pretty-blocking",
   "metadata": {
    "slideshow": {
     "slide_type": "-"
    }
   },
   "outputs": [],
   "source": [
    "𝔽 = Quot{Int, Val{17}};  #the field\n",
    "N, t = 5, 2;  #the number of players and the threshold"
   ]
  },
  {
   "cell_type": "code",
   "execution_count": null,
   "id": "surprised-contrast",
   "metadata": {
    "scrolled": false
   },
   "outputs": [],
   "source": [
    "Anand = Player(:Anand, 1)\n",
    "Anirudh = Player(:Anirudh, 2)\n",
    "Hrishikesh = Player(:Hrishikesh, 3)\n",
    "Kapil = Player(:Kapil, 4)\n",
    "Srijay = Player(:Srijay, 5)\n",
    "\n",
    "players = (Anand, Anirudh, Hrishikesh, Kapil, Srijay)"
   ]
  },
  {
   "cell_type": "code",
   "execution_count": null,
   "id": "dated-australia",
   "metadata": {},
   "outputs": [],
   "source": []
  },
  {
   "cell_type": "markdown",
   "id": "future-digest",
   "metadata": {
    "slideshow": {
     "slide_type": "subslide"
    }
   },
   "source": [
    "#### Step 1: Input sharing\n",
    "\n",
    "Every player executes the $(t, n)$ Shamir Secret Sharing protocol with their secrets.\n",
    "\n",
    "This differs from the regular protocol in two important ways:\n",
    "- Each player receives a share of their own secret\n",
    "- Instead of evaluating the secret polynomials at random inputs, the $i$th player is always given the share corresponding to the input $i$"
   ]
  },
  {
   "cell_type": "code",
   "execution_count": null,
   "id": "mechanical-weekend",
   "metadata": {},
   "outputs": [],
   "source": [
    "for p ∈ players;        p.secretpoly = randompolynomial(p.secret; degree = t);     end"
   ]
  },
  {
   "cell_type": "code",
   "execution_count": null,
   "id": "ethical-comparison",
   "metadata": {},
   "outputs": [],
   "source": [
    "for p ∈ players, q ∈ players;     q.shares[p.number] = p.secretpoly(q.number);     end"
   ]
  },
  {
   "cell_type": "code",
   "execution_count": null,
   "id": "pressed-louisiana",
   "metadata": {
    "scrolled": true
   },
   "outputs": [],
   "source": [
    " "
   ]
  },
  {
   "cell_type": "markdown",
   "id": "convinced-harris",
   "metadata": {
    "slideshow": {
     "slide_type": "subslide"
    }
   },
   "source": [
    "#### Step 2: Sum evaluation\n",
    "\n",
    "Each player then computes the sum of the shares they have received from the other players. The shares act like proxies for the values of the inputs.\n",
    "\n",
    "The sum of the shares received by the $i$th player is\n",
    "\n",
    "$$\n",
    "\\sum_{p \\in players} p.secretpoly(i)\n",
    "$$\n",
    "\n",
    "Consider a new polynomial\n",
    "\n",
    "$$\n",
    "Q(x) = \\sum_{p \\in players} p.secretpoly(x)\n",
    "$$"
   ]
  },
  {
   "cell_type": "markdown",
   "id": "immune-range",
   "metadata": {
    "slideshow": {
     "slide_type": "subslide"
    }
   },
   "source": [
    "This is a degree $t$ polynomial with constant coefficient equal to \n",
    "\n",
    "$$\n",
    "Q(0) = \\sum_{p \\in players} p.secretpoly(0) = \\sum_{p \\in players} p.secret\n",
    "$$"
   ]
  },
  {
   "cell_type": "markdown",
   "id": "north-baking",
   "metadata": {},
   "source": [
    "Although the players have no way of computing $Q(x)$ without revealing their secret polynomials, they can individually compute the values of the shares $Q(i)$ by summing the shares received from the other players (as mentioned above)."
   ]
  },
  {
   "cell_type": "code",
   "execution_count": null,
   "id": "foster-solution",
   "metadata": {},
   "outputs": [],
   "source": [
    "for p ∈ players;     p.computedvalue = sum(p.shares);  end"
   ]
  },
  {
   "cell_type": "markdown",
   "id": "ongoing-matthew",
   "metadata": {
    "slideshow": {
     "slide_type": "subslide"
    }
   },
   "source": [
    "#### Step 3: Output construction\n",
    "\n",
    "Now that the players have all computed their individual shares of the $t$-degree polynomial $Q(x)$, they can find the secret $Q(0)$ - which is the sum of their secret numbers - by combining any $t + 1$ shares and finding the interpolating polynomial."
   ]
  },
  {
   "cell_type": "code",
   "execution_count": null,
   "id": "retained-survey",
   "metadata": {
    "slideshow": {
     "slide_type": "skip"
    }
   },
   "outputs": [],
   "source": [
    "function interpolate(xs, ys::Vector{T}) where {T}\n",
    "    𝕩 = Polynomial([zero(T), one(T)])\n",
    "    \n",
    "    #L(j) = prod([(𝕩 - Polynomial([xₖ])) for (k, xₖ) ∈ enumerate(xs) if k != j]) * \n",
    "    #Polynomial([inv(prod([(xs[j] - xₖ) for (k, xₖ) ∈ enumerate(xs) if k != j]))])\n",
    "    \n",
    "    L(j) = prod( [\n",
    "            (𝕩 - Polynomial([xₖ])) * Polynomial([inv(xs[j] - xₖ)])\n",
    "            for (k, xₖ) ∈ enumerate(xs) if k != j\n",
    "            ] )\n",
    "    \n",
    "    sum([Polynomial([yⱼ]) * L(j) for (j, yⱼ) ∈ enumerate(ys)])\n",
    "end       \n",
    "\n",
    "interpolate(ps::Vector{Player{T}}) where {T <: Any} = interpolate(getfield.(ps, :number) .+ zero(T), getfield.(ps, :computedvalue))   "
   ]
  },
  {
   "cell_type": "code",
   "execution_count": null,
   "id": "cathedral-radio",
   "metadata": {},
   "outputs": [],
   "source": [
    "interpolate([Anirudh, Kapil, Srijay])"
   ]
  },
  {
   "cell_type": "code",
   "execution_count": null,
   "id": "considered-cable",
   "metadata": {
    "scrolled": true
   },
   "outputs": [],
   "source": [
    "getfield.(players, :secret) |> sum"
   ]
  },
  {
   "cell_type": "markdown",
   "id": "cardiac-drive",
   "metadata": {
    "slideshow": {
     "slide_type": "subslide"
    }
   },
   "source": [
    "This approach can be generalised to compute\n",
    "\n",
    "- Weighted sums of the secrets\n",
    "- The product of a matrix (of suitable dimensions) with the vector of secrets\n",
    "- Products of the secrets (after modifications)"
   ]
  },
  {
   "cell_type": "markdown",
   "id": "interior-bishop",
   "metadata": {
    "slideshow": {
     "slide_type": "fragment"
    }
   },
   "source": [
    "and hence any polynomial function of the secret numbers $s_1, s_2, \\ldots, s_n.$\n",
    "\n",
    "---"
   ]
  },
  {
   "cell_type": "markdown",
   "id": "domestic-measure",
   "metadata": {
    "slideshow": {
     "slide_type": "slide"
    }
   },
   "source": [
    "# Private Set Intersection"
   ]
  },
  {
   "cell_type": "markdown",
   "id": "endangered-crack",
   "metadata": {
    "slideshow": {
     "slide_type": "subslide"
    }
   },
   "source": [
    "## Introduction\n",
    "\n",
    "Matching records is one of the most basic data analysis operations. There are many cases where data needs to be aligned across some common value — whether that’s joining between two different tables in a database or across two data sets stored in a file, or matching data sets between two separate entities."
   ]
  },
  {
   "cell_type": "markdown",
   "id": "latest-insert",
   "metadata": {
    "slideshow": {
     "slide_type": "subslide"
    }
   },
   "source": [
    "## What is Private Set Intersection (PSI)?\n",
    "\n",
    "PSI is a multi-party computation method using which 2 parties can share the intersection of the data that they have, without actually sharing their private raw data. An important and widely used variant is that of client-server systems. In this case, it is only the client who learns the intersection of the data sets. This is the more studied version, because using this variant in both directions is equivalent to the first variant.\n",
    "\n",
    "PSI has its uses in areas like Plagiarism, Human genomic testing, Detection of tax evaders etc.\n"
   ]
  },
  {
   "cell_type": "markdown",
   "id": "original-prefix",
   "metadata": {
    "slideshow": {
     "slide_type": "-"
    }
   },
   "source": [
    "Protecting the confidentiality of a data set is a natural need and even a requisite in many scenarios. For example, when the data is user’s address book or the client genome of a genetic diagnosis service, such input data must be protected by cryptography.\n",
    "<center>\n",
    "<figure>\n",
    "    <img src=\"psi.jpg\"  height=\"400\" width=\"400\"/>\n",
    "    <figcaption>Client-Server PSI</figcaption>\n",
    "</figure>\n",
    "</center>"
   ]
  },
  {
   "cell_type": "markdown",
   "id": "fewer-province",
   "metadata": {
    "slideshow": {
     "slide_type": "slide"
    }
   },
   "source": [
    "## Working\n",
    "\n",
    "### General PSI Protocol"
   ]
  },
  {
   "cell_type": "markdown",
   "id": "ancient-elimination",
   "metadata": {
    "slideshow": {
     "slide_type": "-"
    }
   },
   "source": [
    "#### Pseudorandom Functions\n",
    "\n",
    "A pseudo-random function family (PRF) is a collection of efficiently computable functions with a key with the **property that outpus of the function on known inputs \"look\" completely random**. Thus for any given list of elements $x_1. x_2, x_3, \\cdots x_n$, the series of values $F_k(x_1), F_k(x_2), \\cdots F_k(x_n)$ look random. In particular, given $F_k(x_i)$, it is infeasible to determine the value of $x_i$ (here $F_k$ is the pseudorandom function and $k$ is the key)."
   ]
  },
  {
   "cell_type": "markdown",
   "id": "technical-tennessee",
   "metadata": {
    "slideshow": {
     "slide_type": "subslide"
    }
   },
   "source": [
    "#### Description of the protocol\n",
    "In the following simple protocol, we utilise a tool called oblivious pseudorandom\n",
    "function evaluation, which is a type of MPC protocol where the first party inputs $k$ and\n",
    "the second party inputs $x$, and the second party receives $F_k(x)$ while the first party learns nothing\n",
    "about $x$ (note that the second party learns $F_k(x)$ but nothing beyond that; in particular, $k$ remains\n",
    "secret)."
   ]
  },
  {
   "cell_type": "markdown",
   "id": "literary-teacher",
   "metadata": {
    "slideshow": {
     "slide_type": "fragment"
    }
   },
   "source": [
    "Now, consider two parties with respective sets of private elements; denote them $x_1, \\cdots , x_n$ and\n",
    "$y_1, \\cdots , y_n$, respectively. Then the protocol proceeds as follows:\n",
    "- The first party chooses a key $k$ for a pseudorandom function.\n",
    "- The two parties run $n$ oblivious pseudorandom function evaluations: in the $i^{th}$ execution, the first party inputs $k$ and the second party inputs $y_i$. As a result, the second party learns $F_k(y_1),\\cdots , F_k(y_n)$ while the first party learns nothing about $y_1,\\cdots, y_n$.\n"
   ]
  },
  {
   "cell_type": "markdown",
   "id": "foster-attendance",
   "metadata": {
    "slideshow": {
     "slide_type": "subslide"
    }
   },
   "source": [
    "- The first party locally computes $F_k(x_1),\\cdots , F_k(x_n)$ and sends the list to the second party. It\n",
    "can compute this since it knows $k$.\n",
    "- The second party computes the intersection between the lists $F_k(y_1),\\cdots , F_k(y_n)$ and $F_k(x_1),\\cdots , F_k(x_n)$, and outputs all values $y_j$ for which $F_k(y_j)$ is in the intersection. (The party knows these values since it knows the association between $y_j$ and $F_k(y_j)$).\n",
    "\n"
   ]
  },
  {
   "cell_type": "markdown",
   "id": "central-pipeline",
   "metadata": {
    "slideshow": {
     "slide_type": "fragment"
    }
   },
   "source": [
    "Note that the above protocol **reveals nothing but the intersection** since the first party learns nothing about $y_1,\\cdots , y_n$ from the oblivious pseudorandom function evaluations, and the second party learns nothing about values of $x_j$ that are not in the intersection since the pseudorandom function hides the preimage values."
   ]
  },
  {
   "cell_type": "markdown",
   "id": "basic-meditation",
   "metadata": {
    "slideshow": {
     "slide_type": "slide"
    }
   },
   "source": [
    "### PSI Based on Diffie-Hellman \n",
    "\n",
    "We can also modify the Diffie-Hellman Key Exchange protocol to use it for Private Set intersection. We will give a brief description of the protocol here."
   ]
  },
  {
   "cell_type": "markdown",
   "id": "incoming-freight",
   "metadata": {
    "slideshow": {
     "slide_type": "fragment"
    }
   },
   "source": [
    "#### Decisional Diffie-Hellman Assumption\n",
    "\n",
    "Consider a (multiplicative) cyclic group $G$ of order $q$ ($q$ is prime), and with generator $g$. The DDH assumption states that, given $g^{a}$ and $g^{b}$ for uniformly and independently chosen $a, b \\in \\mathbb{Z}_q$, the value $g^{ab}$  \"looks like\" a random element in $G$."
   ]
  },
  {
   "cell_type": "markdown",
   "id": "violent-penny",
   "metadata": {
    "slideshow": {
     "slide_type": "subslide"
    }
   },
   "source": [
    "#### Protocol\n",
    "- Agree on a group $\\mathbb{Z}_p$ with a generator $g$ ($p$ is prime). H is a pseudorandom function, which is also agreed upon. First party chooses secret $\\alpha \\in \\mathbb{Z}_p$, second party chooses secret $\\beta \\in \\mathbb{Z}_p$.\n",
    "- For random $a,b,c$, one cannot distinguish $(g^a, g^b, g^{ab})$ from $g^a, g^b, g^c$ (DDH assumption)\n",
    "- First party's dataset: $x_1, x_2,  \\cdots x_n$, Second party's dataset: $y_1, y_2, \\cdots y_n$. \n",
    "- First party computes $H(x_1)^\\alpha, \\cdots H(x_n)^\\alpha$, second party computes $H(y_1)^\\beta, \\cdots H(y_n)^\\beta$. \n",
    "- Both parties exchange their outputs. First party computes $(H(x_1)^\\alpha)^\\beta \\cdots (H(x_n)^\\alpha)^\\beta$. Similarly, second party computes $(H(x_1)^\\beta)^\\alpha \\cdots (H(x_n)^\\beta)^\\alpha$. \n",
    "- Since $(H(x)^\\alpha)^\\beta=(H(x)^\\beta)^\\alpha$, both parties can compare the 2 lists, and find the intersection. \n",
    "\n",
    "<center><img src=\"psidiffie.png\"  height=\"500\" width=\"500\"/></center>"
   ]
  },
  {
   "cell_type": "markdown",
   "id": "sorted-first",
   "metadata": {
    "slideshow": {
     "slide_type": "slide"
    }
   },
   "source": [
    "## Security\n",
    "\n",
    "The generic PSI protocol satisfies the ideal-real simulation paradigm, as the protocol given leaks no information, apart from possibly leaking the size of the intersection. If an adversary intercepts the messages sent by the 2 parties, they can calculate the intersection set size, however they wouldn't have any information regarding the elements of the set. Neither party gains any information other than the intersection set itself. \n",
    "\n",
    "The Diffie Hellman PSI protocol has the added advantage that even the size of intersection set can not be calculated from intercepting the communication as the messages $H(x_1)^\\alpha, \\cdots H(x_n)^\\alpha$ and $H(y_1)^\\beta, \\cdots H(y_n)^\\beta$ cannot be decrypted without calculating $\\alpha \\cdot \\beta$, which we are assuming cannot be calculated (DDH assumption)."
   ]
  },
  {
   "cell_type": "markdown",
   "id": "cathedral-effectiveness",
   "metadata": {
    "slideshow": {
     "slide_type": "slide"
    }
   },
   "source": [
    "## Applications\n",
    "\n",
    "Now, let us look at some exemplary use cases where a PSI protocol is useful. Keep in mind the main traits of PSI: **two parties, both have interest in not showing their data to each other but need to find/do something with the elements in the intersection**:"
   ]
  },
  {
   "cell_type": "markdown",
   "id": "logical-representative",
   "metadata": {
    "slideshow": {
     "slide_type": "fragment"
    }
   },
   "source": [
    "Use Case |Description\n",
    "-----|:-----\n",
    "Private Contact Discovery|Finding out as a user (client) who of my private contacts also have a certain communication app (server)\n",
    "DNA testing and pattern matching|The user gets their DNA sequenced and wants to find out about sequences linked to genetic diseases which are stored on a database (server).\n",
    "Remote diagnostics|A medical diagnostic program assigns a status (sick or not sick with a certain disease) to a vectorized patient’s (client) electronic health record. While the client learns about her sickness, the program itself remains secret and the program owner (server) does not learn anything about the client’s data.\n",
    "Advertising conversion|In order to compute accurate conversion rates from advertisements to actual purchases, the company and the ad providers compute the size of the intersection between customers who were shown the ads and customers who actually bought the product, without revealing any further information about the customers themselves. Here the ad providers are the server and the company are the clients."
   ]
  },
  {
   "cell_type": "markdown",
   "id": "alternate-moldova",
   "metadata": {
    "slideshow": {
     "slide_type": "slide"
    }
   },
   "source": [
    "# Conclusion"
   ]
  },
  {
   "cell_type": "markdown",
   "id": "outstanding-design",
   "metadata": {
    "slideshow": {
     "slide_type": "subslide"
    }
   },
   "source": [
    "## Bank locker\n",
    "We have seen the applications of PSI so now we re examine the bank locker problem we started with.\n",
    "\n",
    "So our main issue is can my bank locker be opened without my key\n",
    "\n",
    "### Assumptions:-\n",
    "\n",
    "1.   We are talking of modern day bank lockers which require both keys the key of the owner of contents inside the locker and also of the branch manager and also that the lockers are digital.\n",
    "2.   We are considering that the lockers are designed in such a way that it is not possible to acccess the things inside lockers by physically breaking the lockers.\n",
    "\n",
    "We will use idea similar to Shamir secret sharing in order to understand this problem\n",
    "\n",
    "We need to add 4 slides which will contain animation of the circle idea"
   ]
  },
  {
   "cell_type": "markdown",
   "id": "raised-midwest",
   "metadata": {
    "slideshow": {
     "slide_type": "slide"
    }
   },
   "source": [
    "# Some ongoing projects/places where MPC seems useful"
   ]
  },
  {
   "cell_type": "markdown",
   "id": "funded-european",
   "metadata": {
    "slideshow": {
     "slide_type": "subslide"
    }
   },
   "source": [
    "## EzPC\n",
    "https://youtu.be/-1H1Sp-_5YU"
   ]
  },
  {
   "cell_type": "markdown",
   "id": "acquired-riverside",
   "metadata": {
    "slideshow": {
     "slide_type": "subslide"
    }
   },
   "source": [
    "## EVM machines "
   ]
  },
  {
   "cell_type": "markdown",
   "id": "peripheral-truth",
   "metadata": {
    "slideshow": {
     "slide_type": "subslide"
    }
   },
   "source": [
    "## Military documents"
   ]
  },
  {
   "cell_type": "markdown",
   "id": "deluxe-retro",
   "metadata": {
    "slideshow": {
     "slide_type": "slide"
    }
   },
   "source": [
    "# The conclusion\n",
    "\n",
    "So till now we saw with the help of some examples that how multi party computation works and where it might be useful.\n",
    "\n",
    "Develponment of MPC is the need of the hour as this will also help in the developnment in data science,ML and AI in an appropriate manner.\n",
    "\n",
    "MPC or similar ideas are also relevent in various security aspects and also in designing of varios different sorts of things which has a formal sense of security thereby helpings us doing various sorts of things in an efficient manner with the formal gaurantee that our data is not used by others without our consent.\n",
    "\n",
    "---"
   ]
  },
  {
   "cell_type": "markdown",
   "id": "entitled-divide",
   "metadata": {
    "slideshow": {
     "slide_type": "slide"
    }
   },
   "source": [
    "# References\n",
    "\n",
    "- https://eprint.iacr.org/2020/300.pdf (An Introduction to Secure Multiparty Computation by Yehuda Lindell)\n",
    "- https://www.cs.princeton.edu/courses/archive/fall16/cos521/Lectures/lec21.pdf (An example of using Shamir's Secret Sharing scheme for addition and multiplication of secret numbers)\n",
    "- https://timesofindia.indiatimes.com/blogs/toi-edit-page/security-of-my-bank-locker-here-are-simple-geometric-solutions-to-protect-valuables-or-confidential-information/(Times of India article explaining Security of bank lockers)\n",
    "- https://main.sci.gov.in/supremecourt/2009/22857/22857_2009_39_1501_26314_Judgement_19-Feb-2021.pdf (Honorable Supreme court of India's judgement which contains references to several issues related to security of things in bank lockers)\n",
    "- https://youtu.be/-1H1Sp-_5YU (EzPC)"
   ]
  }
 ],
 "metadata": {
  "celltoolbar": "Slideshow",
  "kernelspec": {
   "display_name": "Julia 1.6.1",
   "language": "julia",
   "name": "julia-1.6"
  },
  "language_info": {
   "file_extension": ".jl",
   "mimetype": "application/julia",
   "name": "julia",
   "version": "1.6.1"
  },
  "rise": {
   "autolaunch": true,
   "enable_chalkboard": true,
   "theme": "simple"
  }
 },
 "nbformat": 4,
 "nbformat_minor": 5
}
